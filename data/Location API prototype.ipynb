{
 "cells": [
  {
   "cell_type": "markdown",
   "metadata": {},
   "source": [
    "# Learn API"
   ]
  },
  {
   "cell_type": "code",
   "execution_count": 8,
   "metadata": {},
   "outputs": [],
   "source": [
    "import requests\n",
    "import json"
   ]
  },
  {
   "cell_type": "code",
   "execution_count": 11,
   "metadata": {},
   "outputs": [],
   "source": [
    "response = requests.get(\"http://api.open-notify.org/iss-now.json\")"
   ]
  },
  {
   "cell_type": "code",
   "execution_count": 12,
   "metadata": {},
   "outputs": [
    {
     "data": {
      "text/plain": [
       "200"
      ]
     },
     "execution_count": 12,
     "metadata": {},
     "output_type": "execute_result"
    }
   ],
   "source": [
    "response.status_code"
   ]
  },
  {
   "cell_type": "code",
   "execution_count": 19,
   "metadata": {},
   "outputs": [
    {
     "data": {
      "text/plain": [
       "{'message': 'success',\n",
       " 'iss_position': {'longitude': '15.2324', 'latitude': '-7.7429'},\n",
       " 'timestamp': 1544768878}"
      ]
     },
     "execution_count": 19,
     "metadata": {},
     "output_type": "execute_result"
    }
   ],
   "source": [
    "response.json()"
   ]
  },
  {
   "cell_type": "code",
   "execution_count": 21,
   "metadata": {},
   "outputs": [
    {
     "name": "stdout",
     "output_type": "stream",
     "text": [
      "{'message': 'success', 'request': {'altitude': 100, 'datetime': 1544765793, 'latitude': 40.71, 'longitude': -74.0, 'passes': 5}, 'response': [{'duration': 583, 'risetime': 1544797244}, {'duration': 636, 'risetime': 1544802994}, {'duration': 566, 'risetime': 1544808855}, {'duration': 554, 'risetime': 1544814713}, {'duration': 623, 'risetime': 1544820512}]}\n",
      "{'message': 'success', 'request': {'altitude': 100, 'datetime': 1544765793, 'latitude': 40.71, 'longitude': -74.0, 'passes': 5}, 'response': [{'duration': 583, 'risetime': 1544797244}, {'duration': 636, 'risetime': 1544802994}, {'duration': 566, 'risetime': 1544808855}, {'duration': 554, 'risetime': 1544814713}, {'duration': 623, 'risetime': 1544820512}]}\n"
     ]
    }
   ],
   "source": [
    "# Set up the parameters we want to pass to the API.\n",
    "# This is the latitude and longitude of New York City.\n",
    "parameters = {\"lat\": 40.71, \"lon\": -74}\n",
    "\n",
    "# Make a get request with the parameters.\n",
    "response = requests.get(\"http://api.open-notify.org/iss-pass.json\", params=parameters)\n",
    "\n",
    "# Print the content of the response (the data the server returned)\n",
    "print(response.json())\n",
    "\n",
    "# This gets the same data as the command above\n",
    "response = requests.get(\"http://api.open-notify.org/iss-pass.json?lat=40.71&lon=-74\")\n",
    "print(response.json())"
   ]
  },
  {
   "cell_type": "markdown",
   "metadata": {},
   "source": [
    "# Location HERE API "
   ]
  },
  {
   "cell_type": "code",
   "execution_count": 26,
   "metadata": {},
   "outputs": [],
   "source": [
    "parameters = {\"app_id\" : \"EPimKPfenNGqsgGCr01O\", \"app_code\" : \"n6V78llT2352UUagDt295g\"}\n",
    "\n"
   ]
  },
  {
   "cell_type": "code",
   "execution_count": 28,
   "metadata": {},
   "outputs": [],
   "source": [
    "response = requests.get(\"https://places.cit.api.here.com/places/v1/autosuggest?at=40.74917,-73.98529&q=chrysler\",params=parameters)"
   ]
  },
  {
   "cell_type": "code",
   "execution_count": 29,
   "metadata": {},
   "outputs": [
    {
     "data": {
      "text/plain": [
       "200"
      ]
     },
     "execution_count": 29,
     "metadata": {},
     "output_type": "execute_result"
    }
   ],
   "source": [
    "response.status_code"
   ]
  },
  {
   "cell_type": "code",
   "execution_count": 30,
   "metadata": {},
   "outputs": [
    {
     "data": {
      "text/plain": [
       "{'results': [{'title': 'CHRYSLER',\n",
       "   'highlightedTitle': '<b>CHRYSLER</b>',\n",
       "   'href': 'https://places.cit.api.here.com/places/v1/autosuggest/search;context=Zmxvdy1pZD0zMzYyZmY4Yi04Zjg0LTUyMzUtOWZlMC0yYzEwYTE4NDc1ZWJfMTU0NDc2OTM0NjQxOF84NzQ0Xzg0NzImcmFuaz0wJmF0PTQwLjc0OTE3JTJDLTczLjk4NTI5?filters=vi%3Aautosuggest%2Cchain%3A306&app_id=EPimKPfenNGqsgGCr01O&app_code=n6V78llT2352UUagDt295g',\n",
       "   'type': 'urn:nlp-types:search',\n",
       "   'resultType': 'chain'},\n",
       "  {'title': 'Chrysler Building',\n",
       "   'highlightedTitle': '<b>Chrysler</b> Building',\n",
       "   'vicinity': '405 Lexington Ave<br/>New York, NY 10017',\n",
       "   'highlightedVicinity': '405 Lexington Ave<br/>New York, NY 10017',\n",
       "   'position': [40.75196, -73.97565],\n",
       "   'category': 'sights-museums',\n",
       "   'categoryTitle': 'Sights & Museums',\n",
       "   'href': 'https://places.cit.api.here.com/places/v1/places/840dr5ru-08bf72d1a15f41228438fb017f83a84c;context=Zmxvdy1pZD0zMzYyZmY4Yi04Zjg0LTUyMzUtOWZlMC0yYzEwYTE4NDc1ZWJfMTU0NDc2OTM0NjQxOF84NzQ0Xzg0NzImcmFuaz0x?app_id=EPimKPfenNGqsgGCr01O&app_code=n6V78llT2352UUagDt295g',\n",
       "   'type': 'urn:nlp-types:place',\n",
       "   'resultType': 'place',\n",
       "   'id': '840dr5ru-08bf72d1a15f41228438fb017f83a84c',\n",
       "   'distance': 871},\n",
       "  {'title': 'CHRYSLER Cleaners',\n",
       "   'highlightedTitle': '<b>CHRYSLER</b> Cleaners',\n",
       "   'vicinity': '405 Lexington Ave<br/>New York, NY 10017',\n",
       "   'highlightedVicinity': '405 Lexington Ave<br/>New York, NY 10017',\n",
       "   'position': [40.75191, -73.97553],\n",
       "   'category': 'business-services',\n",
       "   'categoryTitle': 'Business & Services',\n",
       "   'href': 'https://places.cit.api.here.com/places/v1/places/8403fv6k-9c4ba3c6eb9c0515d6186d664ffc4791;context=Zmxvdy1pZD0zMzYyZmY4Yi04Zjg0LTUyMzUtOWZlMC0yYzEwYTE4NDc1ZWJfMTU0NDc2OTM0NjQxOF84NzQ0Xzg0NzImcmFuaz0y?app_id=EPimKPfenNGqsgGCr01O&app_code=n6V78llT2352UUagDt295g',\n",
       "   'type': 'urn:nlp-types:place',\n",
       "   'resultType': 'place',\n",
       "   'id': '8403fv6k-9c4ba3c6eb9c0515d6186d664ffc4791',\n",
       "   'distance': 879},\n",
       "  {'title': 'The Capital Grille',\n",
       "   'highlightedTitle': 'The Capital Grille',\n",
       "   'vicinity': '155 E 42nd St<br/>New York, NY 10017',\n",
       "   'highlightedVicinity': '155 E 42nd St<br/>New York, NY 10017',\n",
       "   'position': [40.75105, -73.97497],\n",
       "   'category': 'restaurant',\n",
       "   'categoryTitle': 'Restaurant',\n",
       "   'href': 'https://places.cit.api.here.com/places/v1/places/840dr5ru-d985b00d32f14311b6d17275934a2520;context=Zmxvdy1pZD0zMzYyZmY4Yi04Zjg0LTUyMzUtOWZlMC0yYzEwYTE4NDc1ZWJfMTU0NDc2OTM0NjQxOF84NzQ0Xzg0NzImcmFuaz0z?app_id=EPimKPfenNGqsgGCr01O&app_code=n6V78llT2352UUagDt295g',\n",
       "   'type': 'urn:nlp-types:place',\n",
       "   'resultType': 'place',\n",
       "   'id': '840dr5ru-d985b00d32f14311b6d17275934a2520',\n",
       "   'distance': 896,\n",
       "   'chainIds': ['1611']},\n",
       "  {'title': 'Manhattan CHRYSLER',\n",
       "   'highlightedTitle': 'Manhattan <b>CHRYSLER</b>',\n",
       "   'vicinity': '678 11th Ave<br/>New York, NY 10019',\n",
       "   'highlightedVicinity': '678 11th Ave<br/>New York, NY 10019',\n",
       "   'position': [40.76475, -73.99522],\n",
       "   'category': 'car-dealer-repair',\n",
       "   'categoryTitle': 'Car Dealer/Repair',\n",
       "   'href': 'https://places.cit.api.here.com/places/v1/places/840dr5ru-23df61de93ae4e518252366c2d4fecd8;context=Zmxvdy1pZD0zMzYyZmY4Yi04Zjg0LTUyMzUtOWZlMC0yYzEwYTE4NDc1ZWJfMTU0NDc2OTM0NjQxOF84NzQ0Xzg0NzImcmFuaz00?app_id=EPimKPfenNGqsgGCr01O&app_code=n6V78llT2352UUagDt295g',\n",
       "   'type': 'urn:nlp-types:place',\n",
       "   'resultType': 'place',\n",
       "   'id': '840dr5ru-23df61de93ae4e518252366c2d4fecd8',\n",
       "   'distance': 1923,\n",
       "   'chainIds': ['306']},\n",
       "  {'title': 'CHRYSLER Camera Repair',\n",
       "   'highlightedTitle': '<b>CHRYSLER</b> Camera Repair',\n",
       "   'vicinity': 'W 34th St<br/>New York, NY 10001',\n",
       "   'highlightedVicinity': 'W 34th St<br/>New York, NY 10001',\n",
       "   'position': [40.7534, -73.995756],\n",
       "   'category': 'business-services',\n",
       "   'categoryTitle': 'Business & Services',\n",
       "   'href': 'https://places.cit.api.here.com/places/v1/places/840dr5ru-5621a4b810b547d9a243a05647dc0d39;context=Zmxvdy1pZD0zMzYyZmY4Yi04Zjg0LTUyMzUtOWZlMC0yYzEwYTE4NDc1ZWJfMTU0NDc2OTM0NjQxOF84NzQ0Xzg0NzImcmFuaz01?app_id=EPimKPfenNGqsgGCr01O&app_code=n6V78llT2352UUagDt295g',\n",
       "   'type': 'urn:nlp-types:place',\n",
       "   'resultType': 'place',\n",
       "   'id': '840dr5ru-5621a4b810b547d9a243a05647dc0d39',\n",
       "   'distance': 1001},\n",
       "  {'title': 'Kacey CHRYSLER',\n",
       "   'highlightedTitle': 'Kacey <b>CHRYSLER</b>',\n",
       "   'vicinity': '405 Lexington Ave<br/>New York, NY 10017',\n",
       "   'highlightedVicinity': '405 Lexington Ave<br/>New York, NY 10017',\n",
       "   'position': [40.75191, -73.97553],\n",
       "   'category': 'cinema',\n",
       "   'categoryTitle': 'Cinema',\n",
       "   'href': 'https://places.cit.api.here.com/places/v1/places/8408lxx5-e24501d407400e87ec1ca5861b922db3;context=Zmxvdy1pZD0zMzYyZmY4Yi04Zjg0LTUyMzUtOWZlMC0yYzEwYTE4NDc1ZWJfMTU0NDc2OTM0NjQxOF84NzQ0Xzg0NzImcmFuaz02?app_id=EPimKPfenNGqsgGCr01O&app_code=n6V78llT2352UUagDt295g',\n",
       "   'type': 'urn:nlp-types:place',\n",
       "   'resultType': 'place',\n",
       "   'id': '8408lxx5-e24501d407400e87ec1ca5861b922db3',\n",
       "   'distance': 879},\n",
       "  {'title': 'CHRYSLER Camera Repair',\n",
       "   'highlightedTitle': '<b>CHRYSLER</b> Camera Repair',\n",
       "   'vicinity': '367 W 34th St<br/>New York, NY 10001',\n",
       "   'highlightedVicinity': '367 W 34th St<br/>New York, NY 10001',\n",
       "   'position': [40.75336, -73.99584],\n",
       "   'category': 'business-services',\n",
       "   'categoryTitle': 'Business & Services',\n",
       "   'href': 'https://places.cit.api.here.com/places/v1/places/840dr5ru-c5f1df7c88e5497aad6b458b485cffba;context=Zmxvdy1pZD0zMzYyZmY4Yi04Zjg0LTUyMzUtOWZlMC0yYzEwYTE4NDc1ZWJfMTU0NDc2OTM0NjQxOF84NzQ0Xzg0NzImcmFuaz03?app_id=EPimKPfenNGqsgGCr01O&app_code=n6V78llT2352UUagDt295g',\n",
       "   'type': 'urn:nlp-types:place',\n",
       "   'resultType': 'place',\n",
       "   'id': '840dr5ru-c5f1df7c88e5497aad6b458b485cffba',\n",
       "   'distance': 1005},\n",
       "  {'title': 'CHRYSLER Tower Periodontics and Implant Dentistry',\n",
       "   'highlightedTitle': '<b>CHRYSLER</b> Tower Periodontics and Implant Dentistry',\n",
       "   'vicinity': '405 Lexington Ave<br/>New York, NY 10017',\n",
       "   'highlightedVicinity': '405 Lexington Ave<br/>New York, NY 10017',\n",
       "   'position': [40.7519, -73.97553],\n",
       "   'category': 'hospital-health-care-facility',\n",
       "   'categoryTitle': 'Hospital or Healthcare Facility',\n",
       "   'href': 'https://places.cit.api.here.com/places/v1/places/8403fv6k-57c3bb11e2e30b8552e9e1a305572fb2;context=Zmxvdy1pZD0zMzYyZmY4Yi04Zjg0LTUyMzUtOWZlMC0yYzEwYTE4NDc1ZWJfMTU0NDc2OTM0NjQxOF84NzQ0Xzg0NzImcmFuaz04?app_id=EPimKPfenNGqsgGCr01O&app_code=n6V78llT2352UUagDt295g',\n",
       "   'type': 'urn:nlp-types:place',\n",
       "   'resultType': 'place',\n",
       "   'id': '8403fv6k-57c3bb11e2e30b8552e9e1a305572fb2',\n",
       "   'distance': 878},\n",
       "  {'title': 'CHRYSLER Stationery & Gift',\n",
       "   'highlightedTitle': '<b>CHRYSLER</b> Stationery & Gift',\n",
       "   'vicinity': '130 E 43rd St<br/>New York, NY 10017',\n",
       "   'highlightedVicinity': '130 E 43rd St<br/>New York, NY 10017',\n",
       "   'position': [40.751808, -73.975188],\n",
       "   'category': 'shop',\n",
       "   'categoryTitle': 'Shop',\n",
       "   'href': 'https://places.cit.api.here.com/places/v1/places/8403fv6k-3f35009db2a90b229e865b38fdd5cb68;context=Zmxvdy1pZD0zMzYyZmY4Yi04Zjg0LTUyMzUtOWZlMC0yYzEwYTE4NDc1ZWJfMTU0NDc2OTM0NjQxOF84NzQ0Xzg0NzImcmFuaz05?app_id=EPimKPfenNGqsgGCr01O&app_code=n6V78llT2352UUagDt295g',\n",
       "   'type': 'urn:nlp-types:place',\n",
       "   'resultType': 'place',\n",
       "   'id': '8403fv6k-3f35009db2a90b229e865b38fdd5cb68',\n",
       "   'distance': 902},\n",
       "  {'title': 'Chrysler',\n",
       "   'highlightedTitle': '<b>Chrysler</b>',\n",
       "   'vicinity': 'Uriah, AL 36480',\n",
       "   'highlightedVicinity': 'Uriah, AL 36480',\n",
       "   'position': [31.30523, -87.70212],\n",
       "   'category': 'administrative-region',\n",
       "   'categoryTitle': 'Administrative Region',\n",
       "   'bbox': [-87.71791, 31.29174, -87.68633, 31.31872],\n",
       "   'href': 'https://places.cit.api.here.com/places/v1/places/loc-dmVyc2lvbj0xO3RpdGxlPUNocnlzbGVyO2xhbmc9ZW47bGF0PTMxLjMwNTIzO2xvbj0tODcuNzAyMTI7Y2l0eT1VcmlhaDtwb3N0YWxDb2RlPTM2NDgwO2NvdW50cnk9VVNBO2Rpc3RyaWN0PUNocnlzbGVyO3N0YXRlPUFsYWJhbWE7c3RhdGVDb2RlPUFMO2NvdW50eT1Nb25yb2U7Y2F0ZWdvcnlJZD1hZG1pbmlzdHJhdGl2ZS1yZWdpb247c291cmNlU3lzdGVtPWludGVybmFsO3Bkc0NhdGVnb3J5SWQ9OTAwLTk0MDAtMDM5OQ;context=Zmxvdy1pZD0zMzYyZmY4Yi04Zjg0LTUyMzUtOWZlMC0yYzEwYTE4NDc1ZWJfMTU0NDc2OTM0NjQxOF84NzQ0Xzg0NzImYmJveD0tODcuNzE3OTElMkMzMS4yOTE3NCUyQy04Ny42ODYzMyUyQzMxLjMxODcyJnJhbms9MTA?app_id=EPimKPfenNGqsgGCr01O&app_code=n6V78llT2352UUagDt295g',\n",
       "   'type': 'urn:nlp-types:place',\n",
       "   'resultType': 'address',\n",
       "   'id': 'loc-dmVyc2lvbj0xO3RpdGxlPUNocnlzbGVyO2xhbmc9ZW47bGF0PTMxLjMwNTIzO2xvbj0tODcuNzAyMTI7Y2l0eT1VcmlhaDtwb3N0YWxDb2RlPTM2NDgwO2NvdW50cnk9VVNBO2Rpc3RyaWN0PUNocnlzbGVyO3N0YXRlPUFsYWJhbWE7c3RhdGVDb2RlPUFMO2NvdW50eT1Nb25yb2U7Y2F0ZWdvcnlJZD1hZG1pbmlzdHJhdGl2ZS1yZWdpb247c291cmNlU3lzdGVtPWludGVybmFsO3Bkc0NhdGVnb3J5SWQ9OTAwLTk0MDAtMDM5OQ',\n",
       "   'distance': 1617131},\n",
       "  {'title': 'CHRYSLER Auto Repair',\n",
       "   'highlightedTitle': '<b>CHRYSLER</b> Auto Repair',\n",
       "   'vicinity': '28 E 67th St<br/>New York, NY 10065',\n",
       "   'highlightedVicinity': '28 E 67th St<br/>New York, NY 10065',\n",
       "   'position': [40.768531, -73.967964],\n",
       "   'category': 'car-dealer-repair',\n",
       "   'categoryTitle': 'Car Dealer/Repair',\n",
       "   'href': 'https://places.cit.api.here.com/places/v1/places/8408lxx5-8a0e212f71800ff903a6d5152b796413;context=Zmxvdy1pZD0zMzYyZmY4Yi04Zjg0LTUyMzUtOWZlMC0yYzEwYTE4NDc1ZWJfMTU0NDc2OTM0NjQxOF84NzQ0Xzg0NzImcmFuaz0xMQ?app_id=EPimKPfenNGqsgGCr01O&app_code=n6V78llT2352UUagDt295g',\n",
       "   'type': 'urn:nlp-types:place',\n",
       "   'resultType': 'place',\n",
       "   'id': '8408lxx5-8a0e212f71800ff903a6d5152b796413',\n",
       "   'distance': 2601},\n",
       "  {'title': 'Manhattan Jeep CHRYSLER DODGE',\n",
       "   'highlightedTitle': 'Manhattan Jeep <b>CHRYSLER</b> DODGE',\n",
       "   'vicinity': '630 W 55th St<br/>New York, NY 10019',\n",
       "   'highlightedVicinity': '630 W 55th St<br/>New York, NY 10019',\n",
       "   'position': [40.76956, -73.99391],\n",
       "   'category': 'car-dealer-repair',\n",
       "   'categoryTitle': 'Car Dealer/Repair',\n",
       "   'href': 'https://places.cit.api.here.com/places/v1/places/840jx7ps-ffd7519e441602f72e2959a55ff245d9;context=Zmxvdy1pZD0zMzYyZmY4Yi04Zjg0LTUyMzUtOWZlMC0yYzEwYTE4NDc1ZWJfMTU0NDc2OTM0NjQxOF84NzQ0Xzg0NzImcmFuaz0xMg?app_id=EPimKPfenNGqsgGCr01O&app_code=n6V78llT2352UUagDt295g',\n",
       "   'type': 'urn:nlp-types:place',\n",
       "   'resultType': 'place',\n",
       "   'id': '840jx7ps-ffd7519e441602f72e2959a55ff245d9',\n",
       "   'distance': 2378},\n",
       "  {'title': 'CHRYSLER Building Locksmith',\n",
       "   'highlightedTitle': '<b>CHRYSLER</b> Building Locksmith',\n",
       "   'vicinity': '25th Ave<br/>Astoria, NY 11103',\n",
       "   'highlightedVicinity': '25th Ave<br/>Astoria, NY 11103',\n",
       "   'position': [40.76617, -73.90849],\n",
       "   'category': 'communication-media',\n",
       "   'categoryTitle': 'Communications/Media',\n",
       "   'href': 'https://places.cit.api.here.com/places/v1/places/8403fv6k-6173844a80ed03bd64e785804a57000c;context=Zmxvdy1pZD0zMzYyZmY4Yi04Zjg0LTUyMzUtOWZlMC0yYzEwYTE4NDc1ZWJfMTU0NDc2OTM0NjQxOF84NzQ0Xzg0NzImcmFuaz0xMw?app_id=EPimKPfenNGqsgGCr01O&app_code=n6V78llT2352UUagDt295g',\n",
       "   'type': 'urn:nlp-types:place',\n",
       "   'resultType': 'place',\n",
       "   'id': '8403fv6k-6173844a80ed03bd64e785804a57000c',\n",
       "   'distance': 6754},\n",
       "  {'title': 'Major World CHRYSLER',\n",
       "   'highlightedTitle': 'Major World <b>CHRYSLER</b>',\n",
       "   'vicinity': '50-30 Northern Blvd<br/>New York, NY 11101',\n",
       "   'highlightedVicinity': '50-30 Northern Blvd<br/>New York, NY 11101',\n",
       "   'position': [40.75296, -73.91103],\n",
       "   'category': 'car-dealer-repair',\n",
       "   'categoryTitle': 'Car Dealer/Repair',\n",
       "   'href': 'https://places.cit.api.here.com/places/v1/places/840jx7ps-6161da8b702c0b5fb53ff067048889fb;context=Zmxvdy1pZD0zMzYyZmY4Yi04Zjg0LTUyMzUtOWZlMC0yYzEwYTE4NDc1ZWJfMTU0NDc2OTM0NjQxOF84NzQ0Xzg0NzImcmFuaz0xNA?app_id=EPimKPfenNGqsgGCr01O&app_code=n6V78llT2352UUagDt295g',\n",
       "   'type': 'urn:nlp-types:place',\n",
       "   'resultType': 'place',\n",
       "   'id': '840jx7ps-6161da8b702c0b5fb53ff067048889fb',\n",
       "   'distance': 6285,\n",
       "   'chainIds': ['306']},\n",
       "  {'title': 'Hudson CHRYSLER',\n",
       "   'highlightedTitle': 'Hudson <b>CHRYSLER</b>',\n",
       "   'vicinity': '625 RT-440<br/>Jersey City, NJ 07304',\n",
       "   'highlightedVicinity': '625 RT-440<br/>Jersey City, NJ 07304',\n",
       "   'position': [40.71784, -74.09507],\n",
       "   'category': 'car-dealer-repair',\n",
       "   'categoryTitle': 'Car Dealer/Repair',\n",
       "   'href': 'https://places.cit.api.here.com/places/v1/places/840jx7ps-5c4d06fd02570b369614e1e749344262;context=Zmxvdy1pZD0zMzYyZmY4Yi04Zjg0LTUyMzUtOWZlMC0yYzEwYTE4NDc1ZWJfMTU0NDc2OTM0NjQxOF84NzQ0Xzg0NzImcmFuaz0xNQ?app_id=EPimKPfenNGqsgGCr01O&app_code=n6V78llT2352UUagDt295g',\n",
       "   'type': 'urn:nlp-types:place',\n",
       "   'resultType': 'place',\n",
       "   'id': '840jx7ps-5c4d06fd02570b369614e1e749344262',\n",
       "   'distance': 9905,\n",
       "   'chainIds': ['306']},\n",
       "  {'title': 'Chrysler',\n",
       "   'highlightedTitle': '<b>Chrysler</b>',\n",
       "   'vicinity': 'Wallace No 243, SK S0A<br/>Canada',\n",
       "   'highlightedVicinity': 'Wallace No 243, SK S0A<br/>Canada',\n",
       "   'position': [51.16951, -102.40247],\n",
       "   'category': 'administrative-region',\n",
       "   'categoryTitle': 'Administrative Region',\n",
       "   'bbox': [-102.42398, 51.15602, -102.38096, 51.183],\n",
       "   'href': 'https://places.cit.api.here.com/places/v1/places/loc-dmVyc2lvbj0xO3RpdGxlPUNocnlzbGVyO2xhbmc9ZW47bGF0PTUxLjE2OTUxO2xvbj0tMTAyLjQwMjQ3O2NpdHk9V2FsbGFjZStObysyNDM7cG9zdGFsQ29kZT1TMEE7Y291bnRyeT1DQU47ZGlzdHJpY3Q9Q2hyeXNsZXI7c3RhdGU9U2Fza2F0Y2hld2FuO3N0YXRlQ29kZT1TSztjb3VudHk9U2Fza2F0Y2hld2FuO2NhdGVnb3J5SWQ9YWRtaW5pc3RyYXRpdmUtcmVnaW9uO3NvdXJjZVN5c3RlbT1pbnRlcm5hbDtwZHNDYXRlZ29yeUlkPTkwMC05NDAwLTAzOTk;context=Zmxvdy1pZD0zMzYyZmY4Yi04Zjg0LTUyMzUtOWZlMC0yYzEwYTE4NDc1ZWJfMTU0NDc2OTM0NjQxOF84NzQ0Xzg0NzImYmJveD0tMTAyLjQyMzk4JTJDNTEuMTU2MDIlMkMtMTAyLjM4MDk2JTJDNTEuMTgzJnJhbms9MTY?app_id=EPimKPfenNGqsgGCr01O&app_code=n6V78llT2352UUagDt295g',\n",
       "   'type': 'urn:nlp-types:place',\n",
       "   'resultType': 'address',\n",
       "   'id': 'loc-dmVyc2lvbj0xO3RpdGxlPUNocnlzbGVyO2xhbmc9ZW47bGF0PTUxLjE2OTUxO2xvbj0tMTAyLjQwMjQ3O2NpdHk9V2FsbGFjZStObysyNDM7cG9zdGFsQ29kZT1TMEE7Y291bnRyeT1DQU47ZGlzdHJpY3Q9Q2hyeXNsZXI7c3RhdGU9U2Fza2F0Y2hld2FuO3N0YXRlQ29kZT1TSztjb3VudHk9U2Fza2F0Y2hld2FuO2NhdGVnb3J5SWQ9YWRtaW5pc3RyYXRpdmUtcmVnaW9uO3NvdXJjZVN5c3RlbT1pbnRlcm5hbDtwZHNDYXRlZ29yeUlkPTkwMC05NDAwLTAzOTk',\n",
       "   'distance': 2467004},\n",
       "  {'title': 'Brooklyn CHRYSLER',\n",
       "   'highlightedTitle': 'Brooklyn <b>CHRYSLER</b>',\n",
       "   'vicinity': '2286 Flatbush Ave<br/>Brooklyn, NY 11234',\n",
       "   'highlightedVicinity': '2286 Flatbush Ave<br/>Brooklyn, NY 11234',\n",
       "   'position': [40.61395, -73.92763],\n",
       "   'category': 'car-dealer-repair',\n",
       "   'categoryTitle': 'Car Dealer/Repair',\n",
       "   'href': 'https://places.cit.api.here.com/places/v1/places/840dr5rj-88c9b28334084c849ef0b8e1c9546007;context=Zmxvdy1pZD0zMzYyZmY4Yi04Zjg0LTUyMzUtOWZlMC0yYzEwYTE4NDc1ZWJfMTU0NDc2OTM0NjQxOF84NzQ0Xzg0NzImcmFuaz0xNw?app_id=EPimKPfenNGqsgGCr01O&app_code=n6V78llT2352UUagDt295g',\n",
       "   'type': 'urn:nlp-types:place',\n",
       "   'resultType': 'place',\n",
       "   'id': '840dr5rj-88c9b28334084c849ef0b8e1c9546007',\n",
       "   'distance': 15787,\n",
       "   'chainIds': ['306']},\n",
       "  {'title': 'Riverdale CHRYSLER',\n",
       "   'highlightedTitle': 'Riverdale <b>CHRYSLER</b>',\n",
       "   'vicinity': '5869 Broadway<br/>Bronx, NY 10463',\n",
       "   'highlightedVicinity': '5869 Broadway<br/>Bronx, NY 10463',\n",
       "   'position': [40.88641, -73.90041],\n",
       "   'category': 'car-dealer-repair',\n",
       "   'categoryTitle': 'Car Dealer/Repair',\n",
       "   'href': 'https://places.cit.api.here.com/places/v1/places/840dr72w-4812c9c2082d4d4a858b9c51f9e8f272;context=Zmxvdy1pZD0zMzYyZmY4Yi04Zjg0LTUyMzUtOWZlMC0yYzEwYTE4NDc1ZWJfMTU0NDc2OTM0NjQxOF84NzQ0Xzg0NzImcmFuaz0xOA?app_id=EPimKPfenNGqsgGCr01O&app_code=n6V78llT2352UUagDt295g',\n",
       "   'type': 'urn:nlp-types:place',\n",
       "   'resultType': 'place',\n",
       "   'id': '840dr72w-4812c9c2082d4d4a858b9c51f9e8f272',\n",
       "   'distance': 16839,\n",
       "   'chainIds': ['306']},\n",
       "  {'title': 'Major Chrysler Jeep Dodge',\n",
       "   'highlightedTitle': 'Major <b>Chrysler</b> Jeep Dodge',\n",
       "   'vicinity': '34-20 45th St<br/>Long Island City, NY 11101',\n",
       "   'highlightedVicinity': '34-20 45th St<br/>Long Island City, NY 11101',\n",
       "   'position': [40.75427, -73.91734],\n",
       "   'category': 'car-dealer-repair',\n",
       "   'categoryTitle': 'Car Dealer/Repair',\n",
       "   'href': 'https://places.cit.api.here.com/places/v1/places/840dr5rv-93dd31d11ff642f4b6e2b89ae1440b14;context=Zmxvdy1pZD0zMzYyZmY4Yi04Zjg0LTUyMzUtOWZlMC0yYzEwYTE4NDc1ZWJfMTU0NDc2OTM0NjQxOF84NzQ0Xzg0NzImcmFuaz0xOQ?app_id=EPimKPfenNGqsgGCr01O&app_code=n6V78llT2352UUagDt295g',\n",
       "   'type': 'urn:nlp-types:place',\n",
       "   'resultType': 'place',\n",
       "   'id': '840dr5rv-93dd31d11ff642f4b6e2b89ae1440b14',\n",
       "   'distance': 5766}]}"
      ]
     },
     "execution_count": 30,
     "metadata": {},
     "output_type": "execute_result"
    }
   ],
   "source": [
    "response.json()"
   ]
  },
  {
   "cell_type": "code",
   "execution_count": null,
   "metadata": {},
   "outputs": [],
   "source": []
  }
 ],
 "metadata": {
  "kernelspec": {
   "display_name": "Python 3",
   "language": "python",
   "name": "python3"
  },
  "language_info": {
   "codemirror_mode": {
    "name": "ipython",
    "version": 3
   },
   "file_extension": ".py",
   "mimetype": "text/x-python",
   "name": "python",
   "nbconvert_exporter": "python",
   "pygments_lexer": "ipython3",
   "version": "3.7.0"
  }
 },
 "nbformat": 4,
 "nbformat_minor": 2
}
