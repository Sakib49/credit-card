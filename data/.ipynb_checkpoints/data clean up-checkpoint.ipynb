{
 "cells": [
  {
   "cell_type": "code",
   "execution_count": 26,
   "metadata": {},
   "outputs": [],
   "source": [
    "import pandas as pd\n",
    "import matplotlib.pyplot as plt\n",
    "%matplotlib inline\n",
    "import numpy as np"
   ]
  },
  {
   "cell_type": "code",
   "execution_count": 2,
   "metadata": {},
   "outputs": [],
   "source": [
    "raw_data = pd.read_excel(\"raw_data.xlsx\")"
   ]
  },
  {
   "cell_type": "code",
   "execution_count": 3,
   "metadata": {},
   "outputs": [
    {
     "data": {
      "text/html": [
       "<div>\n",
       "<style scoped>\n",
       "    .dataframe tbody tr th:only-of-type {\n",
       "        vertical-align: middle;\n",
       "    }\n",
       "\n",
       "    .dataframe tbody tr th {\n",
       "        vertical-align: top;\n",
       "    }\n",
       "\n",
       "    .dataframe thead th {\n",
       "        text-align: right;\n",
       "    }\n",
       "</style>\n",
       "<table border=\"1\" class=\"dataframe\">\n",
       "  <thead>\n",
       "    <tr style=\"text-align: right;\">\n",
       "      <th></th>\n",
       "      <th>Card Name</th>\n",
       "      <th>Bank Name</th>\n",
       "      <th>URL</th>\n",
       "      <th>Card Type</th>\n",
       "      <th>Interest Rate(%)</th>\n",
       "      <th>Cash Withdrawal Limit Per transaction</th>\n",
       "      <th>Cash withdrawal Limit Per day</th>\n",
       "      <th>Credit Limit(Max)</th>\n",
       "      <th>International Transaction Available</th>\n",
       "      <th>Balance Transfer Available</th>\n",
       "      <th>...</th>\n",
       "      <th>reward luxary resort/hotel</th>\n",
       "      <th>reward insurance plan</th>\n",
       "      <th>reward travel benefits</th>\n",
       "      <th>reward fine dining</th>\n",
       "      <th>reward buffet discount</th>\n",
       "      <th>reward medical discount</th>\n",
       "      <th>reward_shopping</th>\n",
       "      <th>reward airlines ticket</th>\n",
       "      <th>reward point program</th>\n",
       "      <th>EMI available</th>\n",
       "    </tr>\n",
       "  </thead>\n",
       "  <tbody>\n",
       "    <tr>\n",
       "      <th>count</th>\n",
       "      <td>130</td>\n",
       "      <td>130</td>\n",
       "      <td>130</td>\n",
       "      <td>130</td>\n",
       "      <td>126</td>\n",
       "      <td>128</td>\n",
       "      <td>128</td>\n",
       "      <td>115</td>\n",
       "      <td>127</td>\n",
       "      <td>124</td>\n",
       "      <td>...</td>\n",
       "      <td>126</td>\n",
       "      <td>126</td>\n",
       "      <td>126</td>\n",
       "      <td>125</td>\n",
       "      <td>126</td>\n",
       "      <td>126</td>\n",
       "      <td>126</td>\n",
       "      <td>126</td>\n",
       "      <td>126</td>\n",
       "      <td>125</td>\n",
       "    </tr>\n",
       "    <tr>\n",
       "      <th>unique</th>\n",
       "      <td>130</td>\n",
       "      <td>27</td>\n",
       "      <td>112</td>\n",
       "      <td>11</td>\n",
       "      <td>8</td>\n",
       "      <td>8</td>\n",
       "      <td>11</td>\n",
       "      <td>18</td>\n",
       "      <td>4</td>\n",
       "      <td>2</td>\n",
       "      <td>...</td>\n",
       "      <td>2</td>\n",
       "      <td>2</td>\n",
       "      <td>2</td>\n",
       "      <td>2</td>\n",
       "      <td>2</td>\n",
       "      <td>2</td>\n",
       "      <td>2</td>\n",
       "      <td>3</td>\n",
       "      <td>2</td>\n",
       "      <td>2</td>\n",
       "    </tr>\n",
       "    <tr>\n",
       "      <th>top</th>\n",
       "      <td>One Bank Visa School Banking Local Debit Card</td>\n",
       "      <td>Mutual Trust bank Limited</td>\n",
       "      <td>https://www.sc.com/bd/credit-cards/credit-card...</td>\n",
       "      <td>Credit</td>\n",
       "      <td>N/G</td>\n",
       "      <td>N/G</td>\n",
       "      <td>N/G</td>\n",
       "      <td>N/G</td>\n",
       "      <td>T</td>\n",
       "      <td>F</td>\n",
       "      <td>...</td>\n",
       "      <td>F</td>\n",
       "      <td>F</td>\n",
       "      <td>F</td>\n",
       "      <td>F</td>\n",
       "      <td>F</td>\n",
       "      <td>F</td>\n",
       "      <td>F</td>\n",
       "      <td>F</td>\n",
       "      <td>F</td>\n",
       "      <td>F</td>\n",
       "    </tr>\n",
       "    <tr>\n",
       "      <th>freq</th>\n",
       "      <td>1</td>\n",
       "      <td>15</td>\n",
       "      <td>6</td>\n",
       "      <td>72</td>\n",
       "      <td>89</td>\n",
       "      <td>104</td>\n",
       "      <td>105</td>\n",
       "      <td>48</td>\n",
       "      <td>63</td>\n",
       "      <td>89</td>\n",
       "      <td>...</td>\n",
       "      <td>102</td>\n",
       "      <td>109</td>\n",
       "      <td>93</td>\n",
       "      <td>85</td>\n",
       "      <td>109</td>\n",
       "      <td>114</td>\n",
       "      <td>68</td>\n",
       "      <td>105</td>\n",
       "      <td>107</td>\n",
       "      <td>116</td>\n",
       "    </tr>\n",
       "  </tbody>\n",
       "</table>\n",
       "<p>4 rows × 24 columns</p>\n",
       "</div>"
      ],
      "text/plain": [
       "                                            Card Name  \\\n",
       "count                                             130   \n",
       "unique                                            130   \n",
       "top     One Bank Visa School Banking Local Debit Card   \n",
       "freq                                                1   \n",
       "\n",
       "                        Bank Name  \\\n",
       "count                         130   \n",
       "unique                         27   \n",
       "top     Mutual Trust bank Limited   \n",
       "freq                           15   \n",
       "\n",
       "                                                      URL Card Type  \\\n",
       "count                                                 130       130   \n",
       "unique                                                112        11   \n",
       "top     https://www.sc.com/bd/credit-cards/credit-card...    Credit   \n",
       "freq                                                    6        72   \n",
       "\n",
       "       Interest Rate(%) Cash Withdrawal Limit Per transaction  \\\n",
       "count               126                                   128   \n",
       "unique                8                                     8   \n",
       "top                 N/G                                   N/G   \n",
       "freq                 89                                   104   \n",
       "\n",
       "       Cash withdrawal Limit Per day Credit Limit(Max)  \\\n",
       "count                            128               115   \n",
       "unique                            11                18   \n",
       "top                              N/G               N/G   \n",
       "freq                             105                48   \n",
       "\n",
       "       International Transaction Available Balance Transfer Available  \\\n",
       "count                                  127                        124   \n",
       "unique                                   4                          2   \n",
       "top                                      T                          F   \n",
       "freq                                    63                         89   \n",
       "\n",
       "            ...      reward luxary resort/hotel reward insurance plan  \\\n",
       "count       ...                             126                   126   \n",
       "unique      ...                               2                     2   \n",
       "top         ...                               F                     F   \n",
       "freq        ...                             102                   109   \n",
       "\n",
       "       reward travel benefits reward fine dining reward buffet discount  \\\n",
       "count                     126                125                    126   \n",
       "unique                      2                  2                      2   \n",
       "top                         F                  F                      F   \n",
       "freq                       93                 85                    109   \n",
       "\n",
       "       reward medical discount reward_shopping reward airlines ticket  \\\n",
       "count                      126             126                    126   \n",
       "unique                       2               2                      3   \n",
       "top                          F               F                      F   \n",
       "freq                       114              68                    105   \n",
       "\n",
       "       reward point program EMI available  \n",
       "count                   126           125  \n",
       "unique                    2             2  \n",
       "top                       F             F  \n",
       "freq                    107           116  \n",
       "\n",
       "[4 rows x 24 columns]"
      ]
     },
     "execution_count": 3,
     "metadata": {},
     "output_type": "execute_result"
    }
   ],
   "source": [
    "raw_data.describe()"
   ]
  },
  {
   "cell_type": "code",
   "execution_count": 4,
   "metadata": {},
   "outputs": [
    {
     "data": {
      "text/plain": [
       "Card Name                                 0\n",
       "Bank Name                                 0\n",
       "URL                                       0\n",
       "Card Type                                 0\n",
       "Interest Rate(%)                          4\n",
       "Cash Withdrawal Limit Per transaction     2\n",
       "Cash withdrawal Limit Per day             2\n",
       "Credit Limit(Max)                        15\n",
       "International Transaction Available       3\n",
       "Balance Transfer Available                6\n",
       "Dual currency                             7\n",
       "reward_supplementary_card                 4\n",
       "reward_airport_lounge                     5\n",
       "reward_cashback_available                 4\n",
       "reward luxary resort/hotel                4\n",
       "reward insurance plan                     4\n",
       "reward travel benefits                    4\n",
       "reward fine dining                        5\n",
       "reward buffet discount                    4\n",
       "reward medical discount                   4\n",
       "reward_shopping                           4\n",
       "reward airlines ticket                    4\n",
       "reward point program                      4\n",
       "EMI available                             5\n",
       "dtype: int64"
      ]
     },
     "execution_count": 4,
     "metadata": {},
     "output_type": "execute_result"
    }
   ],
   "source": [
    "raw_data.isnull().sum()"
   ]
  },
  {
   "cell_type": "markdown",
   "metadata": {},
   "source": [
    "# Boolean Features "
   ]
  },
  {
   "cell_type": "code",
   "execution_count": 5,
   "metadata": {},
   "outputs": [],
   "source": [
    "bool_features = list(raw_data.columns[8:])"
   ]
  },
  {
   "cell_type": "code",
   "execution_count": 6,
   "metadata": {},
   "outputs": [],
   "source": [
    "raw_data[bool_features] = raw_data[bool_features].fillna('F')"
   ]
  },
  {
   "cell_type": "markdown",
   "metadata": {},
   "source": [
    "# Interest Rate "
   ]
  },
  {
   "cell_type": "code",
   "execution_count": 7,
   "metadata": {},
   "outputs": [],
   "source": [
    "raw_data['Interest Rate(%)'] = raw_data['Interest Rate(%)'].replace('N/G',np.nan)"
   ]
  },
  {
   "cell_type": "markdown",
   "metadata": {},
   "source": [
    "# Cash Withdrawal Features "
   ]
  },
  {
   "cell_type": "code",
   "execution_count": 8,
   "metadata": {},
   "outputs": [],
   "source": [
    "raw_data['Cash Withdrawal Limit Per transaction'] = raw_data['Cash Withdrawal Limit Per transaction'].replace('N/G',np.nan)"
   ]
  },
  {
   "cell_type": "code",
   "execution_count": 9,
   "metadata": {},
   "outputs": [],
   "source": [
    "raw_data['Cash withdrawal Limit Per day'].replace('N/G',np.nan,inplace=True)"
   ]
  },
  {
   "cell_type": "code",
   "execution_count": 10,
   "metadata": {},
   "outputs": [],
   "source": [
    "raw_data['Cash withdrawal Limit Per day'].replace('BND 5,000',np.nan,inplace=True)"
   ]
  },
  {
   "cell_type": "code",
   "execution_count": 11,
   "metadata": {},
   "outputs": [],
   "source": [
    "raw_data['Cash withdrawal Limit Per day'].replace('BND 3,000',np.nan,inplace=True)"
   ]
  },
  {
   "cell_type": "code",
   "execution_count": 12,
   "metadata": {},
   "outputs": [
    {
     "data": {
      "text/plain": [
       "50000.0     10\n",
       "300000.0     2\n",
       "100000.0     2\n",
       "500000.0     2\n",
       "0.5          2\n",
       "250000.0     1\n",
       "20000.0      1\n",
       "30000.0      1\n",
       "Name: Cash withdrawal Limit Per day, dtype: int64"
      ]
     },
     "execution_count": 12,
     "metadata": {},
     "output_type": "execute_result"
    }
   ],
   "source": [
    "raw_data['Cash withdrawal Limit Per day'].value_counts()"
   ]
  },
  {
   "cell_type": "code",
   "execution_count": 13,
   "metadata": {},
   "outputs": [
    {
     "data": {
      "text/plain": [
       "Card Name                                  0\n",
       "Bank Name                                  0\n",
       "URL                                        0\n",
       "Card Type                                  0\n",
       "Interest Rate(%)                          93\n",
       "Cash Withdrawal Limit Per transaction    106\n",
       "Cash withdrawal Limit Per day            109\n",
       "Credit Limit(Max)                         15\n",
       "International Transaction Available        0\n",
       "Balance Transfer Available                 0\n",
       "Dual currency                              0\n",
       "reward_supplementary_card                  0\n",
       "reward_airport_lounge                      0\n",
       "reward_cashback_available                  0\n",
       "reward luxary resort/hotel                 0\n",
       "reward insurance plan                      0\n",
       "reward travel benefits                     0\n",
       "reward fine dining                         0\n",
       "reward buffet discount                     0\n",
       "reward medical discount                    0\n",
       "reward_shopping                            0\n",
       "reward airlines ticket                     0\n",
       "reward point program                       0\n",
       "EMI available                              0\n",
       "dtype: int64"
      ]
     },
     "execution_count": 13,
     "metadata": {},
     "output_type": "execute_result"
    }
   ],
   "source": [
    "raw_data.isnull().sum()"
   ]
  },
  {
   "cell_type": "code",
   "execution_count": 14,
   "metadata": {},
   "outputs": [],
   "source": [
    "raw_data.columns = ['card_name',\n",
    "                    'bank_name',\n",
    "                    'url',\n",
    "                    'card_type',\n",
    "                    'interest_rate',\n",
    "                    'cash_withdrawal_limit_per_transaction',\n",
    "                    'cash_withdrawal_limit_per_day',\n",
    "                    'max_credit_limit',\n",
    "                    'international_transaction_available',\n",
    "                    'balance_transfer_available',\n",
    "                    'dual_currency',\n",
    "                    'reward_supplementary_card',\n",
    "                    'reward_airport_lounge',\n",
    "                    'reward_cashback_available',\n",
    "                    'reward_luxary_resort_hotel',\n",
    "                    'reward_insurance_plan',\n",
    "                    'reward_travel_benefits',\n",
    "                    'reward_fine_dining',\n",
    "                    'reward_buffet_discount',\n",
    "                    'reward_medical_discount',\n",
    "                    'reward_shopping',\n",
    "                    'reward_airlines_ticket',\n",
    "                    'reward_point_program',\n",
    "                    'reward_emi_available']"
   ]
  },
  {
   "cell_type": "markdown",
   "metadata": {},
   "source": [
    "# Credit Limit "
   ]
  },
  {
   "cell_type": "code",
   "execution_count": 15,
   "metadata": {},
   "outputs": [],
   "source": [
    "raw_data['max_credit_limit'].replace('N/G',np.nan,inplace=True)"
   ]
  },
  {
   "cell_type": "code",
   "execution_count": 16,
   "metadata": {},
   "outputs": [],
   "source": [
    "raw_data['max_credit_limit'].replace('N/A',np.nan,inplace=True)"
   ]
  },
  {
   "cell_type": "markdown",
   "metadata": {},
   "source": [
    "# Convert to Numbers "
   ]
  },
  {
   "cell_type": "code",
   "execution_count": 17,
   "metadata": {},
   "outputs": [],
   "source": [
    "raw_data['interest_rate'] = raw_data['interest_rate'].astype(float)"
   ]
  },
  {
   "cell_type": "code",
   "execution_count": 18,
   "metadata": {},
   "outputs": [],
   "source": [
    "raw_data['cash_withdrawal_limit_per_transaction'] = raw_data['cash_withdrawal_limit_per_transaction'].astype(float)"
   ]
  },
  {
   "cell_type": "code",
   "execution_count": 19,
   "metadata": {},
   "outputs": [],
   "source": [
    "raw_data['cash_withdrawal_limit_per_day'] = raw_data['cash_withdrawal_limit_per_day'].astype(float)"
   ]
  },
  {
   "cell_type": "code",
   "execution_count": 21,
   "metadata": {},
   "outputs": [],
   "source": [
    "raw_data['max_credit_limit'] = raw_data['max_credit_limit'].astype(float)"
   ]
  },
  {
   "cell_type": "markdown",
   "metadata": {},
   "source": [
    "# Save Data "
   ]
  },
  {
   "cell_type": "code",
   "execution_count": 22,
   "metadata": {},
   "outputs": [],
   "source": [
    "raw_data.to_csv(\"clean_data.csv\",index=False)"
   ]
  },
  {
   "cell_type": "code",
   "execution_count": 28,
   "metadata": {},
   "outputs": [
    {
     "data": {
      "text/plain": [
       "<matplotlib.axes._subplots.AxesSubplot at 0x22dcd9676a0>"
      ]
     },
     "execution_count": 28,
     "metadata": {},
     "output_type": "execute_result"
    },
    {
     "data": {
      "image/png": "[encoded data removed]",
      "text/plain": [
       "<Figure size 432x288 with 1 Axes>"
      ]
     },
     "metadata": {
      "needs_background": "light"
     },
     "output_type": "display_data"
    }
   ],
   "source": [
    "raw_data['interest_rate'].hist()"
   ]
  },
  {
   "cell_type": "code",
   "execution_count": null,
   "metadata": {},
   "outputs": [],
   "source": []
  }
 ],
 "metadata": {
  "kernelspec": {
   "display_name": "Python 3",
   "language": "python",
   "name": "python3"
  },
  "language_info": {
   "codemirror_mode": {
    "name": "ipython",
    "version": 3
   },
   "file_extension": ".py",
   "mimetype": "text/x-python",
   "name": "python",
   "nbconvert_exporter": "python",
   "pygments_lexer": "ipython3",
   "version": "3.7.0"
  }
 },
 "nbformat": 4,
 "nbformat_minor": 2
}
